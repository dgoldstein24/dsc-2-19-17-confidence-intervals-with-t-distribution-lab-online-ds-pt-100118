{
 "cells": [
  {
   "cell_type": "markdown",
   "metadata": {},
   "source": [
    "# Confidence Intervals with T Distribution - Lab"
   ]
  },
  {
   "cell_type": "markdown",
   "metadata": {},
   "source": [
    "## Introduction\n",
    "\n",
    "In the previous lab we saw that if we have the standard deviation for the population, we can use use z-score to calculate our confidence interval using the mean of sample means. \n",
    "\n",
    "If, on the other hand, standard deviation of the population is not known (which is usually the case), you have to use the standard deviation of your sample as a stand in when creating confidence intervals. Since the sample standard deviation is often different then that of the population, further potential errors are introduced to our confidence intervals. To account for this error, we use what's known as a t-critical value instead of the z-critical value.\n",
    "\n",
    "The t-critical value is drawn from what's known as a t-distribution\n",
    "> A t-distribution  closely resembles the normal distribution but  gets wider and wider as the sample size falls.\n",
    "\n",
    "![](http://ci.columbia.edu/ci/premba_test/c0331/images/s7/6317178747.gif)\n",
    "\n",
    "The t-distribution is available in scipy.stats with the nickname \"t\" so we can get t-critical values with `stats.t.ppf()`."
   ]
  },
  {
   "cell_type": "markdown",
   "metadata": {},
   "source": [
    "## Objectives\n",
    "You will be able to:\n",
    "\n",
    "* Understand the concept of a confidence interval and be able to construct one for a mean\n",
    "\n",
    "* Demonstrate how to use the t-distribution for constructing intervals for small sample sizes\n",
    "\n",
    "* Express a correct interpretation of confiendence intervals"
   ]
  },
  {
   "cell_type": "markdown",
   "metadata": {},
   "source": [
    "## Let's get started!"
   ]
  },
  {
   "cell_type": "code",
   "execution_count": 1,
   "metadata": {},
   "outputs": [],
   "source": [
    "# Import the necessary libraries\n",
    "import numpy as np\n",
    "import pandas as pd\n",
    "import scipy.stats as stats\n",
    "import matplotlib.pyplot as plt\n",
    "import random\n",
    "import math"
   ]
  },
  {
   "cell_type": "markdown",
   "metadata": {},
   "source": [
    "Let's investigate point estimates by generating a population of random age data collected a two different locations and then drawing a sample from it to estimate the mean:"
   ]
  },
  {
   "cell_type": "code",
   "execution_count": 2,
   "metadata": {},
   "outputs": [
    {
     "data": {
      "text/html": [
       "<div>\n",
       "<style scoped>\n",
       "    .dataframe tbody tr th:only-of-type {\n",
       "        vertical-align: middle;\n",
       "    }\n",
       "\n",
       "    .dataframe tbody tr th {\n",
       "        vertical-align: top;\n",
       "    }\n",
       "\n",
       "    .dataframe thead th {\n",
       "        text-align: right;\n",
       "    }\n",
       "</style>\n",
       "<table border=\"1\" class=\"dataframe\">\n",
       "  <thead>\n",
       "    <tr style=\"text-align: right;\">\n",
       "      <th></th>\n",
       "      <th>0</th>\n",
       "    </tr>\n",
       "  </thead>\n",
       "  <tbody>\n",
       "    <tr>\n",
       "      <th>count</th>\n",
       "      <td>20000.000000</td>\n",
       "    </tr>\n",
       "    <tr>\n",
       "      <th>mean</th>\n",
       "      <td>21.008578</td>\n",
       "    </tr>\n",
       "    <tr>\n",
       "      <th>std</th>\n",
       "      <td>3.671277</td>\n",
       "    </tr>\n",
       "    <tr>\n",
       "      <th>min</th>\n",
       "      <td>4.784588</td>\n",
       "    </tr>\n",
       "    <tr>\n",
       "      <th>25%</th>\n",
       "      <td>18.662256</td>\n",
       "    </tr>\n",
       "    <tr>\n",
       "      <th>50%</th>\n",
       "      <td>21.163276</td>\n",
       "    </tr>\n",
       "    <tr>\n",
       "      <th>75%</th>\n",
       "      <td>23.489438</td>\n",
       "    </tr>\n",
       "    <tr>\n",
       "      <th>max</th>\n",
       "      <td>36.140116</td>\n",
       "    </tr>\n",
       "  </tbody>\n",
       "</table>\n",
       "</div>"
      ],
      "text/plain": [
       "                  0\n",
       "count  20000.000000\n",
       "mean      21.008578\n",
       "std        3.671277\n",
       "min        4.784588\n",
       "25%       18.662256\n",
       "50%       21.163276\n",
       "75%       23.489438\n",
       "max       36.140116"
      ]
     },
     "execution_count": 2,
     "metadata": {},
     "output_type": "execute_result"
    },
    {
     "data": {
      "image/png": "[encoded data removed]",
      "text/plain": [
       "<Figure size 648x648 with 1 Axes>"
      ]
     },
     "metadata": {},
     "output_type": "display_data"
    }
   ],
   "source": [
    "np.random.seed(20)\n",
    "population_ages1 = np.random.normal(20, 4, 10000) \n",
    "population_ages2 = np.random.normal(22, 3, 10000) \n",
    "population_ages = np.concatenate((population_ages1, population_ages2))\n",
    "\n",
    "pop_ages = pd.DataFrame(population_ages)\n",
    "pop_ages.hist(bins=100,range=(5,33),figsize=(9,9))\n",
    "pop_ages.describe()"
   ]
  },
  {
   "cell_type": "markdown",
   "metadata": {},
   "source": [
    "Let's take a new, smaller sample (<30) and calculate how much sample mean differs from population mean."
   ]
  },
  {
   "cell_type": "code",
   "execution_count": 3,
   "metadata": {},
   "outputs": [
    {
     "name": "stdout",
     "output_type": "stream",
     "text": [
      "Sample Mean: 19.870788629471857\n",
      "Mean Difference: 1.1377888781920937\n"
     ]
    }
   ],
   "source": [
    "np.random.seed(23)\n",
    "\n",
    "sample_size = 25\n",
    "sample = np.random.choice(population_ages ,sample_size) # Take a random sample of size 25 from above population\n",
    "sample_mean = sample.mean()  # Calculate sample mean \n",
    "\n",
    "# Print sample mean and difference of sample and population mean \n",
    "\n",
    "print('Sample Mean: ' + str(sample_mean))\n",
    "print('Mean Difference: ' + str(population_ages.mean() - sample_mean))\n",
    "\n",
    "# Sample Mean: 19.870788629471857\n",
    "# Mean Difference: 1.1377888781920937"
   ]
  },
  {
   "cell_type": "markdown",
   "metadata": {},
   "source": [
    "We can see that sample mean differs from population mean by 1.13 years. We can calculate a confidence interval without the population standard deviation, using the t-distribution using `stats.t.ppf(q, df)` function. This function takes in a value for confidence level required (q) with \"degree of freedom\" (df) .\n",
    "\n",
    "> degrees of freedom = sample_size -1."
   ]
  },
  {
   "cell_type": "code",
   "execution_count": 9,
   "metadata": {},
   "outputs": [
    {
     "name": "stdout",
     "output_type": "stream",
     "text": [
      "t-critical value:\n",
      "2.0638985616280205\n"
     ]
    }
   ],
   "source": [
    "# Cal culate the t-critical value for 95% confidence level for sample taken above. \n",
    "t_critical = stats.t.ppf(.975, sample_size-1)  # Get the t-critical value  by using 95% confidence level and degree of freedom\n",
    "print(\"t-critical value:\")                  # Check the t-critical value\n",
    "print(t_critical)     \n",
    "\n",
    "# t-critical value:\n",
    "# 2.0638985616280205"
   ]
  },
  {
   "cell_type": "markdown",
   "metadata": {},
   "source": [
    "Calculate the confidence interval of the sample by sigma and calculating margin of error as:\n",
    "> **sigma = sample_std/√n**\n",
    "\n",
    "> **Margin of Error = t-critical-value * sigma**\n",
    "\n",
    "and finally the confidence interval can be calculated as : \n",
    "\n",
    "> **Confidence interval = (sample_mean + margin of error, sample_mean - margin of error)**"
   ]
  },
  {
   "cell_type": "code",
   "execution_count": 11,
   "metadata": {},
   "outputs": [
    {
     "name": "stdout",
     "output_type": "stream",
     "text": [
      "Confidence interval:\n",
      "(18.4609156900928, 21.280661568850913)\n"
     ]
    }
   ],
   "source": [
    "# Calculate the sample standard deviation\n",
    "sample_stdev = sample.std()    # Get the sample standard deviation\n",
    "\n",
    "# Calculate sigma using the formula described above to get population standard deviation estimate\n",
    "sigma = sample_stdev / (sample_size ** .5)\n",
    "\n",
    "# Calculate margin of error using t_critical and sigma\n",
    "margin_of_error = t_critical * sigma\n",
    "\n",
    "# Calculate the confidence intervals using calculated margin of error \n",
    "confidence_interval = (sample_mean - margin_of_error, sample_mean + margin_of_error)\n",
    "\n",
    "\n",
    "print(\"Confidence interval:\")\n",
    "print(confidence_interval)\n",
    "\n",
    "# Confidence interval:\n",
    "# (18.4609156900928, 21.280661568850913)"
   ]
  },
  {
   "cell_type": "markdown",
   "metadata": {},
   "source": [
    "We can verify our calculations by using the Python function stats.t.interval():"
   ]
  },
  {
   "cell_type": "code",
   "execution_count": 12,
   "metadata": {},
   "outputs": [
    {
     "data": {
      "text/plain": [
       "(18.4609156900928, 21.280661568850913)"
      ]
     },
     "execution_count": 12,
     "metadata": {},
     "output_type": "execute_result"
    }
   ],
   "source": [
    "stats.t.interval(alpha = 0.95,              # Confidence level\n",
    "                 df= 24,                    # Degrees of freedom\n",
    "                 loc = sample_mean,         # Sample mean\n",
    "                 scale = sigma)             # Standard deviation estimate"
   ]
  },
  {
   "cell_type": "markdown",
   "metadata": {},
   "source": [
    "We can see that the calculated confidence interval includes the population mean calculated above.\n",
    "\n",
    "Lets run the code multiple times to see how often our estimated confidence interval covers the population mean value:\n",
    "\n",
    "**Write a function using code above that takes in sample data and returns confidence intervals**\n",
    "\n"
   ]
  },
  {
   "cell_type": "code",
   "execution_count": 13,
   "metadata": {},
   "outputs": [],
   "source": [
    "# Function to take in sample data and calculate the confidence interval\n",
    "def conf_interval(sample):\n",
    "    '''\n",
    "    Input:  sample \n",
    "    Output: Confidence interval\n",
    "    '''\n",
    "    n = len(sample)\n",
    "    x_hat = sample.mean()\n",
    "    # Calculate the z-critical value using stats.norm.ppf()\n",
    "    # Note that we use stats.t.ppf with q = 0.975 to get the desired t-critical value \n",
    "    # instead of q = 0.95 because the distribution has two tails.\n",
    "\n",
    "    t = stats.t.ppf(.975, n-1)  #  t-critical value for 95% confidence\n",
    "    \n",
    "    sigma = sample.std() / (n ** .5) # Sample standard deviation\n",
    "\n",
    "    # Calculate the margin of error using formula given above\n",
    "    moe = t * sigma\n",
    "\n",
    "    # Calculate the confidence interval by applying margin of error to sample mean \n",
    "    # (mean - margin of error, mean+ margin of error)\n",
    "    conf = (x_hat - moe, x_hat + moe)\n",
    "    \n",
    "    return conf"
   ]
  },
  {
   "cell_type": "markdown",
   "metadata": {},
   "source": [
    "**Call the function 25 times taking different samples at each iteration and calculating sample mean and confidence intervals**"
   ]
  },
  {
   "cell_type": "code",
   "execution_count": 14,
   "metadata": {},
   "outputs": [],
   "source": [
    "# set random seed for reproducability\n",
    "np.random.seed(12)\n",
    "\n",
    "# Select the sample size \n",
    "sample_size = 25\n",
    "\n",
    "# Initialize lists to store interval and mean values\n",
    "intervals = []\n",
    "sample_means = []\n",
    "\n",
    "# Run a for loop for sampling 25 times and calculate + store confidence interval and sample mean values in lists initialised above\n",
    "\n",
    "for sample in range(25):\n",
    "\n",
    "    # Take a random sample of chosen size \n",
    "    sample = np.random.choice(population_ages, sample_size)\n",
    "    \n",
    "    # Calculate sample mean and confidence_interval\n",
    "    sample_mean = sample.mean()\n",
    "    interval = conf_interval(sample)\n",
    "    # Calculate and append sample means and conf intervals for each iteration\n",
    "    intervals.append(interval)\n",
    "    sample_means.append(sample_mean)\n"
   ]
  },
  {
   "cell_type": "markdown",
   "metadata": {},
   "source": [
    "**Plot the confidence intervals along with sample means and population mean**"
   ]
  },
  {
   "cell_type": "code",
   "execution_count": null,
   "metadata": {},
   "outputs": [],
   "source": [
    "# Plot the confidence intervals with sample and population means\n",
    "# Draw the mean and confidence interval for each sample\n",
    "# Draw the population mean "
   ]
  },
  {
   "cell_type": "code",
   "execution_count": 18,
   "metadata": {
    "scrolled": true
   },
   "outputs": [
    {
     "data": {
      "text/plain": [
       "<matplotlib.lines.Line2D at 0x10ed71748>"
      ]
     },
     "execution_count": 18,
     "metadata": {},
     "output_type": "execute_result"
    },
    {
     "data": {
      "image/png": "[encoded data removed]",
      "text/plain": [
       "<Figure size 1080x648 with 1 Axes>"
      ]
     },
     "metadata": {},
     "output_type": "display_data"
    }
   ],
   "source": [
    "plt.figure(figsize = (15,9))\n",
    "plt.errorbar(list(range(25)), sample_means, yerr = [(high - low) /2 for low, high in intervals], fmt = 'o' )\n",
    "plt.axhline(population_ages.mean(), 0, 25, color = 'r')"
   ]
  },
  {
   "cell_type": "markdown",
   "metadata": {},
   "source": [
    "Just like the last lab, all but one of the 95% confidence intervals overlap the red line marking the true mean. This is to be expected: since a 95% confidence interval captures the true mean 95% of the time, we'd expect our interval to miss the true mean 5% of the time."
   ]
  },
  {
   "cell_type": "markdown",
   "metadata": {},
   "source": [
    "## Summary\n",
    "\n",
    "In this lab we learnt how to use confidence intervals when population standard deviation is not known, and the sample size is small (<30) . We also saw how to construct them from random samples. The lesson differentiates between the use cases for z-score and t-distribution. We also saw how t value can be used to define the confidence interval based on confidence level. "
   ]
  }
 ],
 "metadata": {
  "kernelspec": {
   "display_name": "Python 3",
   "language": "python",
   "name": "python3"
  },
  "language_info": {
   "codemirror_mode": {
    "name": "ipython",
    "version": 3
   },
   "file_extension": ".py",
   "mimetype": "text/x-python",
   "name": "python",
   "nbconvert_exporter": "python",
   "pygments_lexer": "ipython3",
   "version": "3.6.5"
  }
 },
 "nbformat": 4,
 "nbformat_minor": 2
}
